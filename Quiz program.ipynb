{
 "cells": [
  {
   "cell_type": "code",
   "execution_count": 2,
   "metadata": {},
   "outputs": [],
   "source": [
    "def easy_Quiz():\n",
    "    score = 0\n",
    "\n",
    "    # Question 1\n",
    "    print(\"Question 1: my favaourite acters is who?\")\n",
    "    answer1= input(\"a) Slaman Khan b) SRK C) Karthik Aaryan d) Jhan your answer:\")\n",
    "\n",
    "    if answer1 ==\"c\":\n",
    "        print(\"correct\")\n",
    "        score += 10\n",
    "    else:\n",
    "        print(\"Incorrect. The correct answer is Karthik Aaryan. \")\n",
    "        "
   ]
  },
  {
   "cell_type": "code",
   "execution_count": null,
   "metadata": {},
   "outputs": [
    {
     "name": "stdout",
     "output_type": "stream",
     "text": [
      "Question 2:What is My favaourite English song?\n"
     ]
    }
   ],
   "source": [
    "# Question 2\n",
    "print(\"Question 2:What is My favaourite English song?\")\n",
    "answer2= input(\"a) Broken Angel b) Ride It C) people d) Chery Chery Lady your answer:\")\n",
    "\n",
    "if answer2 ==\"b\":\n",
    "    print(\"corrtect\")\n",
    "    score += 10\n",
    "else:\n",
    "    print(\"incorrtect. the corrtect answer is Ride It.\")\n"
   ]
  },
  {
   "cell_type": "code",
   "execution_count": 1,
   "metadata": {},
   "outputs": [
    {
     "name": "stdout",
     "output_type": "stream",
     "text": [
      "Question 3: What is your Hobbies? \n",
      "incorrtect.the corrtect answer is Cooking.\n"
     ]
    }
   ],
   "source": [
    "# Question 3\n",
    "print(\"Question 3: What is your Hobbies? \")\n",
    "answer3= input(\"a) Singing b) Dancing c)Playing with my cat d)Cooking your answer:\")\n",
    "\n",
    "if answer3 ==\"d\":\n",
    "    print(\"corrtect\")\n",
    "    score += 10\n",
    "else:\n",
    "    print(\"incorrtect.the corrtect answer is Cooking.\")\n",
    "    "
   ]
  },
  {
   "cell_type": "code",
   "execution_count": null,
   "metadata": {},
   "outputs": [],
   "source": [
    "\n",
    "\n",
    "\n"
   ]
  },
  {
   "cell_type": "code",
   "execution_count": null,
   "metadata": {},
   "outputs": [],
   "source": []
  }
 ],
 "metadata": {
  "kernelspec": {
   "display_name": "Python 3",
   "language": "python",
   "name": "python3"
  },
  "language_info": {
   "codemirror_mode": {
    "name": "ipython",
    "version": 3
   },
   "file_extension": ".py",
   "mimetype": "text/x-python",
   "name": "python",
   "nbconvert_exporter": "python",
   "pygments_lexer": "ipython3",
   "version": "3.13.1"
  }
 },
 "nbformat": 4,
 "nbformat_minor": 2
}
